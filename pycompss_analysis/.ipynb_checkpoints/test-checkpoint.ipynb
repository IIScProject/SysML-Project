{
 "cells": [
  {
   "cell_type": "code",
   "execution_count": 1,
   "id": "31c88cf5",
   "metadata": {},
   "outputs": [
    {
     "name": "stdout",
     "output_type": "stream",
     "text": [
      "********************************************************\n",
      "**************** PyCOMPSs Interactive ******************\n",
      "********************************************************\n",
      "*          .-~~-.--.           ______         ______   *\n",
      "*         :         )         |____  \\       |____  \\  *\n",
      "*   .~ ~ -.\\       /.- ~~ .      __) |          __) |  *\n",
      "*   >       `.   .'       <     |__  |         |__  |  *\n",
      "*  (         .- -.         )   ____) |   _    ____) |  *\n",
      "*   `- -.-~  `- -'  ~-.- -'   |______/  |_|  |______/  *\n",
      "*     (        :        )           _ _ .-:            *\n",
      "*      ~--.    :    .--~        .-~  .-~  }            *\n",
      "*          ~-.-^-.-~ \\_      .~  .-~   .~              *\n",
      "*                   \\ \\ '     \\ '_ _ -~                *\n",
      "*                    \\`.\\`.    //                      *\n",
      "*           . - ~ ~-.__\\`.\\`-.//                       *\n",
      "*       .-~   . - ~  }~ ~ ~-.~-.                       *\n",
      "*     .' .-~      .-~       :/~-.~-./:                 *\n",
      "*    /_~_ _ . - ~                 ~-.~-._              *\n",
      "*                                     ~-.<             *\n",
      "********************************************************\n",
      "* - Starting COMPSs runtime...                         *\n",
      "* - Log path : /home/naman/.COMPSs/Interactive_86/\n",
      "* - PyCOMPSs Runtime started... Have fun!              *\n",
      "********************************************************\n"
     ]
    }
   ],
   "source": [
    "import pycompss.interactive as ipycompss\n",
    "# Import  libraries\n",
    "import os\n",
    "import sys\n",
    "import torch\n",
    "from torch import nn\n",
    "import torch\n",
    "\n",
    "import pycompss.interactive as ipycompss\n",
    "if 'BINDER_SERVICE_HOST' in os.environ:\n",
    "    ipycompss.start(graph=True,\n",
    "                    project_xml='../xml/project.xml',\n",
    "                    resources_xml='../xml/resources.xml')\n",
    "else:\n",
    "    ipycompss.start(graph=True, monitor=1000, debug=True, trace=True, cpu_affinity=\"4,5,6,7\", jvm_workers=\"-Xms1024m\")  # \n",
    "    "
   ]
  },
  {
   "cell_type": "code",
   "execution_count": 2,
   "id": "289e4d61",
   "metadata": {},
   "outputs": [
    {
     "name": "stdout",
     "output_type": "stream",
     "text": [
      "Task definition detected.\n",
      "Found task: initialize_parameters\n",
      "Task definition detected.\n",
      "Found task: embedding_convert\n",
      "Task definition detected.\n",
      "Found task: rnn_cell_computation\n",
      "Task definition detected.\n",
      "Found task: output_one_hot\n"
     ]
    }
   ],
   "source": [
    "from pycompss.api.api import compss_barrier\n",
    "from pycompss.api.api import compss_wait_on\n",
    "from pycompss.api import task\n",
    "from pycompss.api.task import task\n",
    "\n",
    "@task()\n",
    "def initialize_parameters() : \n",
    "    e = torch.rand([300, 49512])\n",
    "    w = torch.rand([4, 256, 300])\n",
    "    u = torch.rand([4, 256, 256])\n",
    "    v = torch.rand([4, 300, 256])\n",
    "    hidden = torch.rand([4, 512, 256])\n",
    "    input = torch.rand([512, 4, 49512])\n",
    "    return e, w, u, v, hidden, input\n",
    "\n",
    "@task()\n",
    "def add(val1, val2):\n",
    "    val3 = torch.add(val1, val2)\n",
    "    return val3\n",
    "\n",
    "@task()\n",
    "def embedding_convert(input_vector, embedding):\n",
    "    output = torch.matmul(input_vector, torch.t(embedding))\n",
    "    return output\n",
    "\n",
    "@task()\n",
    "def rnn_cell_computation(input_vector, hidden_state, weight, u, v, embedding):\n",
    "    h1 = torch.matmul(input_vector, torch.t(weight))\n",
    "    h2 = torch.matmul(hidden_state, torch.t(u))\n",
    "    h = torch.add(h1, h2)\n",
    "    out = torch.matmul(h, torch.t(v))\n",
    "    return out, h\n",
    "\n",
    "@task()\n",
    "def output_one_hot(output, embedding) :\n",
    "    out = torch.matmul(output, embedding)\n",
    "    out = torch.softmax(out,  dim=1)\n",
    "    return out\n",
    "\n",
    "stack_length = 4\n",
    "sequence_length = 4\n",
    "device = \"cpu\"\n",
    "hidden_size = 256\n",
    "mini_batch_size = 512\n",
    "\n",
    "output_vector = [[None for i in range(sequence_length)] for j in range(stack_length)]\n",
    "hidden_vector = [[None for i in range(sequence_length)] for j in range(stack_length)]\n",
    "\n",
    "e, w, u, v, h, input = initialize_parameters()\n",
    "input_vector = embedding_convert(input, e)\n",
    "\n",
    "# First Stack Layer\n",
    "h = compss_wait_on(h)\n",
    "input_vector = compss_wait_on(input_vector)\n",
    "e = compss_wait_on(e)\n",
    "w = compss_wait_on(w)\n",
    "u = compss_wait_on(u)\n",
    "v = compss_wait_on(v)\n",
    "\n",
    "\n",
    "hidden_state = h[0, :, :]\n",
    "for i in range(sequence_length) :\n",
    "    output_vector[0][i], hidden_state = rnn_cell_computation(input_vector = input_vector[:, i, :], hidden_state= hidden_state, weight= w[0, :, :], u = u[0, :, :],v = v[0, :, :], embedding= e)\n",
    "\n",
    "for i in range(1, stack_length) :\n",
    "    hidden_state = h[i, :, :]\n",
    "    for j in range(sequence_length) :\n",
    "        output_vector[i][j], hidden_state = rnn_cell_computation(input_vector = output_vector[i-1][j], hidden_state= hidden_state, weight= w[i, :, :], u = u[i, :, :],v = v[i, :, :], embedding= e)\n",
    "\n",
    "for i in range(sequence_length) :\n",
    "    output_vector[-1][i] = output_one_hot(output_vector[-1][i], e)\n",
    "\n",
    "\n"
   ]
  },
  {
   "cell_type": "code",
   "execution_count": 3,
   "id": "0ee9df7b",
   "metadata": {},
   "outputs": [
    {
     "name": "stderr",
     "output_type": "stream",
     "text": [
      "Widget Javascript not detected.  It may not be installed or enabled properly. Reconnecting the current kernel may help.\n"
     ]
    },
    {
     "data": {
      "application/vnd.jupyter.widget-view+json": {
       "model_id": "46081e46531846f4bbf4954dec6ee229"
      }
     },
     "metadata": {},
     "output_type": "display_data"
    }
   ],
   "source": [
    "ipycompss.tasks_info()"
   ]
  },
  {
   "cell_type": "code",
   "execution_count": 4,
   "id": "5976e965",
   "metadata": {},
   "outputs": [
    {
     "name": "stderr",
     "output_type": "stream",
     "text": [
      "Widget Javascript not detected.  It may not be installed or enabled properly. Reconnecting the current kernel may help.\n"
     ]
    },
    {
     "data": {
      "application/vnd.jupyter.widget-view+json": {
       "model_id": "69ccf6881c48444f970a74d1207d71d3"
      }
     },
     "metadata": {},
     "output_type": "display_data"
    },
    {
     "data": {
      "application/javascript": [
       "require([\"base/js/dialog\"],\n",
       "                                    function(dialog) {\n",
       "                                        function restartCOMPSs(){\n",
       "                                            var kernel = IPython.notebook.kernel;\n",
       "                                            kernel.execute(\"import base64; import json; from pycompss.interactive import stop, start; stop(_hard_stop=True); _COMPSS_START_FLAGS=json.loads(base64.b64decode('\" + 'eyJsb2dfbGV2ZWwiOiAiZGVidWciLCAiZGVidWciOiB0cnVlLCAib19jIjogZmFsc2UsICJncmFwaCI6IHRydWUsICJ0cmFjZSI6IHRydWUsICJtb25pdG9yIjogMTAwMCwgInByb2plY3RfeG1sIjogIiIsICJyZXNvdXJjZXNfeG1sIjogIiIsICJzdW1tYXJ5IjogZmFsc2UsICJ0YXNrX2V4ZWN1dGlvbiI6ICJjb21wc3MiLCAic3RvcmFnZV9pbXBsIjogIiIsICJzdG9yYWdlX2NvbmYiOiAiIiwgInN0cmVhbWluZ19iYWNrZW5kIjogIiIsICJzdHJlYW1pbmdfbWFzdGVyX25hbWUiOiAiIiwgInN0cmVhbWluZ19tYXN0ZXJfcG9ydCI6ICIiLCAidGFza19jb3VudCI6IDUwLCAiYXBwX25hbWUiOiAiSW50ZXJhY3RpdmVNb2RlIiwgInV1aWQiOiAiIiwgImxvZ19kaXIiOiAiIiwgIm1hc3Rlcl93b3JraW5nX2RpciI6ICIiLCAiZXh0cmFlX2NmZyI6ICIiLCAiZXh0cmFlX2ZpbmFsX2RpcmVjdG9yeSI6ICIiLCAiY29tbSI6ICJOSU8iLCAiY29ubiI6ICJlcy5ic2MuY29tcHNzLmNvbm5lY3RvcnMuRGVmYXVsdFNTSENvbm5lY3RvciIsICJtYXN0ZXJfbmFtZSI6ICIiLCAibWFzdGVyX3BvcnQiOiAiIiwgInNjaGVkdWxlciI6ICJlcy5ic2MuY29tcHNzLnNjaGVkdWxlci5sb29rYWhlYWQubG9jYWxpdHkuTG9jYWxpdHlUUyIsICJqdm1fd29ya2VycyI6ICItWG1zMTAyNG0iLCAiY3B1X2FmZmluaXR5IjogIjEiLCAiZ3B1X2FmZmluaXR5IjogImF1dG9tYXRpYyIsICJmcGdhX2FmZmluaXR5IjogImF1dG9tYXRpYyIsICJmcGdhX3JlcHJvZ3JhbSI6ICIiLCAicHJvZmlsZV9pbnB1dCI6ICIiLCAicHJvZmlsZV9vdXRwdXQiOiAiIiwgInNjaGVkdWxlcl9jb25maWciOiAiIiwgImV4dGVybmFsX2FkYXB0YXRpb24iOiBmYWxzZSwgInByb3BhZ2F0ZV92aXJ0dWFsX2Vudmlyb25tZW50IjogdHJ1ZSwgIm1waV93b3JrZXIiOiBmYWxzZSwgIndvcmtlcl9jYWNoZSI6IGZhbHNlLCAic2h1dGRvd25faW5fbm9kZV9mYWlsdXJlIjogZmFsc2UsICJpb19leGVjdXRvcnMiOiAwLCAiZW52X3NjcmlwdCI6ICIiLCAicmV1c2Vfb25fYmxvY2siOiB0cnVlLCAibmVzdGVkX2VuYWJsZWQiOiBmYWxzZSwgInRyYWNpbmdfdGFza19kZXBlbmRlbmNpZXMiOiBmYWxzZSwgInRyYWNlX2xhYmVsIjogIiIsICJleHRyYWVfY2ZnX3B5dGhvbiI6ICIiLCAid2NsIjogMCwgImNhY2hlX3Byb2ZpbGVyIjogZmFsc2UsICJlYXIiOiBmYWxzZSwgImRhdGFfcHJvdmVuYW5jZSI6IGZhbHNlLCAiY2hlY2twb2ludF9wb2xpY3kiOiAiZXMuYnNjLmNvbXBzcy5jaGVja3BvaW50LnBvbGljaWVzLk5vQ2hlY2twb2ludCIsICJjaGVja3BvaW50X3BhcmFtcyI6ICIiLCAiY2hlY2twb2ludF9mb2xkZXIiOiAiIn0=' + \"'.encode())); start(**_COMPSS_START_FLAGS)\");\n",
       "                                        }\n",
       "                                        function continueWithoutCOMPSs(){\n",
       "                                            var kernel = IPython.notebook.kernel;\n",
       "                                            kernel.execute(\"from pycompss.interactive import stop; stop(_hard_stop=True)\");\n",
       "                                        }\n",
       "                                        dialog.modal({\n",
       "                                            title: 'COMPSs RUNTIME STOPPED',\n",
       "                                            body: $('<p>[ERRMGR]  -  WARNING: Job 5, running Task 7 on worker localhost, has failed.<br>[ERRMGR]  -  WARNING: Resubmitting job to the same worker.<br>[ERRMGR]  -  WARNING: Job 5, running Task 7 on worker localhost, has failed.<br>[ERRMGR]  -  WARNING: Task 7 execution on worker localhost has failed; rescheduling task execution. (changing worker)<br>[ERRMGR]  -  WARNING: Job 6, running Task 7 on worker localhost, has failed.<br>[ERRMGR]  -  WARNING: Resubmitting job to the same worker.<br>[ERRMGR]  -  WARNING: Job 6, running Task 7 on worker localhost, has failed.<br>[ERRMGR]  -  WARNING: Task 7 has already been rescheduled; notifying task failure.<br>[ERRMGR]  -  WARNING: Task InteractiveMode_120324_234908.rnn_cell_computation TOTALLY FAILED.<br>[ERRMGR]  -  WARNING: Task 8(Action: 8) with name InteractiveMode_120324_234908.rnn_cell_computation has been cancelled.<br>[ERRMGR]  -  WARNING: Task 9(Action: 9) with name InteractiveMode_120324_234908.rnn_cell_computation has been cancelled.<br>[ERRMGR]  -  ERROR:   Task failed: [[Task id: 7], [Status: FAILED], [Core id: 2], [Priority: false], [NumNodes: 1], [MustReplicate: false], [MustDistribute: false], [InteractiveMode_120324_234908.rnn_cell_computation(FILE_T, FILE_T, FILE_T, FILE_T, FILE_T, FILE_T, FILE_T)]]<br>[ERRMGR]  -  Shutting down COMPSs...<br>[ERRMGR]  -  WARNING: Task 10(Action: 10) with name InteractiveMode_120324_234908.rnn_cell_computation has been cancelled.<br>[ERRMGR]  -  WARNING: Task 14(Action: 14) with name InteractiveMode_120324_234908.rnn_cell_computation has been cancelled.<br>[ERRMGR]  -  WARNING: Task 18(Action: 18) with name InteractiveMode_120324_234908.rnn_cell_computation has been cancelled.</p>'),\n",
       "                                            buttons: {\n",
       "                                                'Continue without COMPSs': {\n",
       "                                                                             click: function() {\n",
       "                                                                                 continueWithoutCOMPSs();\n",
       "                                                                             }\n",
       "                                                                           },\n",
       "                                                'Restart COMPSs': {\n",
       "                                                                    class: 'btn-primary',\n",
       "                                                                    click: function() {\n",
       "                                                                        restartCOMPSs();\n",
       "                                                                    }\n",
       "                                                                  }\n",
       "                                            }\n",
       "                                        });\n",
       "                                    }\n",
       "                            );"
      ],
      "text/plain": [
       "<IPython.core.display.Javascript object>"
      ]
     },
     "metadata": {},
     "output_type": "display_data"
    },
    {
     "name": "stdout",
     "output_type": "stream",
     "text": [
      "\u001b[40;43mWARNING: Some objects may have not been synchronized and need to be recomputed.\u001b[0m\n"
     ]
    }
   ],
   "source": [
    "ipycompss.statistics()"
   ]
  },
  {
   "cell_type": "code",
   "execution_count": null,
   "id": "fee6ee58",
   "metadata": {},
   "outputs": [],
   "source": [
    "ipycompss.resources_status()"
   ]
  },
  {
   "cell_type": "code",
   "execution_count": null,
   "id": "29176e2e",
   "metadata": {},
   "outputs": [],
   "source": [
    "ipycompss.__clean_temp_files()"
   ]
  },
  {
   "cell_type": "code",
   "execution_count": null,
   "id": "6977b5a6",
   "metadata": {},
   "outputs": [],
   "source": [
    "ipycompss.stop(sync=True)\n",
    "print(\"Results after stopping PyCOMPSs: \")\n",
    "print(e)"
   ]
  },
  {
   "cell_type": "code",
   "execution_count": null,
   "id": "ba10639c",
   "metadata": {},
   "outputs": [],
   "source": []
  }
 ],
 "metadata": {
  "kernelspec": {
   "display_name": "Python 3 (ipykernel)",
   "language": "python",
   "name": "python3"
  },
  "language_info": {
   "codemirror_mode": {
    "name": "ipython",
    "version": 3
   },
   "file_extension": ".py",
   "mimetype": "text/x-python",
   "name": "python",
   "nbconvert_exporter": "python",
   "pygments_lexer": "ipython3",
   "version": "3.10.12"
  }
 },
 "nbformat": 4,
 "nbformat_minor": 5
}
