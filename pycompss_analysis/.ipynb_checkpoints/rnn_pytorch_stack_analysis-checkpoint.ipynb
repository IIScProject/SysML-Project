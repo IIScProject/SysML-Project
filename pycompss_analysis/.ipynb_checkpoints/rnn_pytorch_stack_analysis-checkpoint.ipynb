{
 "cells": [
  {
   "cell_type": "code",
   "execution_count": 1,
   "id": "8c7c0423",
   "metadata": {},
   "outputs": [],
   "source": [
    "import pycompss.interactive as ipycompss\n"
   ]
  },
  {
   "cell_type": "code",
   "execution_count": 2,
   "id": "3ce75bd6",
   "metadata": {
    "scrolled": true
   },
   "outputs": [
    {
     "name": "stdout",
     "output_type": "stream",
     "text": [
      "********************************************************\n",
      "**************** PyCOMPSs Interactive ******************\n",
      "********************************************************\n",
      "*          .-~~-.--.           ______         ______   *\n",
      "*         :         )         |____  \\       |____  \\  *\n",
      "*   .~ ~ -.\\       /.- ~~ .      __) |          __) |  *\n",
      "*   >       `.   .'       <     |__  |         |__  |  *\n",
      "*  (         .- -.         )   ____) |   _    ____) |  *\n",
      "*   `- -.-~  `- -'  ~-.- -'   |______/  |_|  |______/  *\n",
      "*     (        :        )           _ _ .-:            *\n",
      "*      ~--.    :    .--~        .-~  .-~  }            *\n",
      "*          ~-.-^-.-~ \\_      .~  .-~   .~              *\n",
      "*                   \\ \\ '     \\ '_ _ -~                *\n",
      "*                    \\`.\\`.    //                      *\n",
      "*           . - ~ ~-.__\\`.\\`-.//                       *\n",
      "*       .-~   . - ~  }~ ~ ~-.~-.                       *\n",
      "*     .' .-~      .-~       :/~-.~-./:                 *\n",
      "*    /_~_ _ . - ~                 ~-.~-._              *\n",
      "*                                     ~-.<             *\n",
      "********************************************************\n",
      "* - Starting COMPSs runtime...                         *\n",
      "* - Log path : /home/naman/.COMPSs/Interactive_29/\n",
      "* - PyCOMPSs Runtime started... Have fun!              *\n",
      "********************************************************\n"
     ]
    }
   ],
   "source": [
    "import os\n",
    "if 'BINDER_SERVICE_HOST' in os.environ:\n",
    "    ipycompss.start(graph=True,\n",
    "                    project_xml='../xml/project.xml',\n",
    "                    resources_xml='../xml/resources.xml')\n",
    "else:\n",
    "    ipycompss.start(graph=True, monitor=1000)  # debug=True, trace=True"
   ]
  },
  {
   "cell_type": "code",
   "execution_count": 3,
   "id": "ecabf879",
   "metadata": {},
   "outputs": [],
   "source": [
    "from pycompss.api.task import task\n"
   ]
  },
  {
   "cell_type": "code",
   "execution_count": 4,
   "id": "47c41eaa",
   "metadata": {},
   "outputs": [],
   "source": [
    "@task(returns=int)\n",
    "def square(val1):\n",
    "    return val1 * val1\n",
    "\n",
    "@task(returns=int)\n",
    "def add(val2, val3):\n",
    "    return val2 + val3\n",
    "\n",
    "@task(returns=int)\n",
    "def multiply(val1, val2):\n",
    "    return val1 * val2"
   ]
  },
  {
   "cell_type": "code",
   "execution_count": 5,
   "id": "3c19dc33",
   "metadata": {},
   "outputs": [
    {
     "name": "stdout",
     "output_type": "stream",
     "text": [
      "Found task: square\n",
      "Found task: add\n",
      "Found task: multiply\n"
     ]
    }
   ],
   "source": [
    "a = square(2)\n",
    "b = add(a, 4)\n",
    "c = multiply(a, b)\n"
   ]
  },
  {
   "cell_type": "code",
   "execution_count": 6,
   "id": "8c2c6bf6",
   "metadata": {},
   "outputs": [
    {
     "name": "stdout",
     "output_type": "stream",
     "text": [
      "********************************************************\n",
      "***************** STOPPING PyCOMPSs ********************\n",
      "********************************************************\n",
      "Checking if any issue happened.\n",
      "Synchronizing all future objects left on the user scope.\n",
      "Found a future object: a\n",
      "Found a future object: b\n",
      "Found a future object: c\n",
      "********************************************************\n"
     ]
    }
   ],
   "source": [
    "ipycompss.stop(sync=True)\n"
   ]
  },
  {
   "cell_type": "code",
   "execution_count": 7,
   "id": "347383df",
   "metadata": {},
   "outputs": [
    {
     "name": "stdout",
     "output_type": "stream",
     "text": [
      "Results after stopping PyCOMPSs: \n",
      "a: 4\n",
      "b: 8\n",
      "c: 32\n"
     ]
    }
   ],
   "source": [
    "print(\"Results after stopping PyCOMPSs: \")\n",
    "print(\"a: %d\" % a)\n",
    "print(\"b: %d\" % b)\n",
    "print(\"c: %d\" % c)\n"
   ]
  },
  {
   "cell_type": "code",
   "execution_count": null,
   "id": "2ac8f89b",
   "metadata": {},
   "outputs": [],
   "source": []
  }
 ],
 "metadata": {
  "kernelspec": {
   "display_name": "Python 3 (ipykernel)",
   "language": "python",
   "name": "python3"
  },
  "language_info": {
   "codemirror_mode": {
    "name": "ipython",
    "version": 3
   },
   "file_extension": ".py",
   "mimetype": "text/x-python",
   "name": "python",
   "nbconvert_exporter": "python",
   "pygments_lexer": "ipython3",
   "version": "3.10.12"
  }
 },
 "nbformat": 4,
 "nbformat_minor": 5
}
