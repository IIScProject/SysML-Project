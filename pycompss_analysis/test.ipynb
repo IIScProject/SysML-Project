{
 "cells": [
  {
   "cell_type": "code",
   "execution_count": 1,
   "id": "626cda98",
   "metadata": {},
   "outputs": [],
   "source": [
    "# # Python program to explain os.sched_setaffinity() method   \n",
    "  \n",
    "# # importing os module  \n",
    "# import os \n",
    "  \n",
    "# # Get the number of CPUs \n",
    "# # in the system \n",
    "# # using os.cpu_count() method \n",
    "# print(\"Number of CPUs:\", os.cpu_count()) \n",
    "  \n",
    "# # Get the set of CPUs \n",
    "# # on which the calling process \n",
    "# # is eligible to run. using \n",
    "# # os.sched_getaffinity() method \n",
    "# # 0 as PID represents the \n",
    "# # calling process \n",
    "# pid = 0\n",
    "# affinity = os.sched_getaffinity(pid) \n",
    "  \n",
    "# # Print the result \n",
    "# print(\"Process is eligible to run on:\", affinity) \n",
    "  \n",
    "  \n",
    "# # Change the CPU affinity mask \n",
    "# # of the calling process \n",
    "# # using os.sched_setaffinity() method \n",
    "  \n",
    "# # Below CPU affinity mask will \n",
    "# # restrict a process to only \n",
    "# # these 2 CPUs (0, 1) i.e process can \n",
    "# # run on these CPUs only \n",
    "# affinity_mask = {0} \n",
    "# pid = 0\n",
    "# os.sched_setaffinity(0, affinity_mask) \n",
    "# print(\"CPU affinity mask is modified for process id % s\" % pid)  \n",
    "  \n",
    "  \n",
    "# # Now again, Get the set of CPUs \n",
    "# # on which the calling process \n",
    "# # is eligible to run. \n",
    "# pid = 0\n",
    "# affinity = os.sched_getaffinity(pid) \n",
    "  \n",
    "# # Print the result \n",
    "# print(\"Now, process is eligible to run on:\", affinity)"
   ]
  },
  {
   "cell_type": "code",
   "execution_count": 2,
   "id": "31c88cf5",
   "metadata": {},
   "outputs": [
    {
     "name": "stdout",
     "output_type": "stream",
     "text": [
      "********************************************************\n",
      "**************** PyCOMPSs Interactive ******************\n",
      "********************************************************\n",
      "*          .-~~-.--.           ______         ______   *\n",
      "*         :         )         |____  \\       |____  \\  *\n",
      "*   .~ ~ -.\\       /.- ~~ .      __) |          __) |  *\n",
      "*   >       `.   .'       <     |__  |         |__  |  *\n",
      "*  (         .- -.         )   ____) |   _    ____) |  *\n",
      "*   `- -.-~  `- -'  ~-.- -'   |______/  |_|  |______/  *\n",
      "*     (        :        )           _ _ .-:            *\n",
      "*      ~--.    :    .--~        .-~  .-~  }            *\n",
      "*          ~-.-^-.-~ \\_      .~  .-~   .~              *\n",
      "*                   \\ \\ '     \\ '_ _ -~                *\n",
      "*                    \\`.\\`.    //                      *\n",
      "*           . - ~ ~-.__\\`.\\`-.//                       *\n",
      "*       .-~   . - ~  }~ ~ ~-.~-.                       *\n",
      "*     .' .-~      .-~       :/~-.~-./:                 *\n",
      "*    /_~_ _ . - ~                 ~-.~-._              *\n",
      "*                                     ~-.<             *\n",
      "********************************************************\n",
      "* - Starting COMPSs runtime...                         *\n",
      "* - Log path : /home/naman/.COMPSs/Interactive_98/\n",
      "* - PyCOMPSs Runtime started... Have fun!              *\n",
      "********************************************************\n"
     ]
    }
   ],
   "source": [
    "import pycompss.interactive as ipycompss\n",
    "# Import  libraries\n",
    "import os\n",
    "import sys\n",
    "import torch\n",
    "from torch import nn\n",
    "import torch\n",
    "\n",
    "import pycompss.interactive as ipycompss\n",
    "if 'BINDER_SERVICE_HOST' in os.environ:\n",
    "    ipycompss.start(graph=True,\n",
    "                    project_xml='../xml/project.xml',\n",
    "                    resources_xml='../xml/resources.xml')\n",
    "else:\n",
    "    ipycompss.start(graph=True, monitor=1000)  # debug=True, trace=True\n",
    "    "
   ]
  },
  {
   "cell_type": "code",
   "execution_count": 3,
   "id": "289e4d61",
   "metadata": {},
   "outputs": [
    {
     "name": "stdout",
     "output_type": "stream",
     "text": [
      "Found task: initialize_parameters\n",
      "Found task: embedding_convert\n",
      "Found task: rnn_cell_computation\n",
      "Found task: output_one_hot\n"
     ]
    }
   ],
   "source": [
    "from pycompss.api.api import compss_barrier\n",
    "from pycompss.api.api import compss_wait_on\n",
    "from pycompss.api import task\n",
    "from pycompss.api.task import task\n",
    "\n",
    "@task()\n",
    "def initialize_parameters() : \n",
    "    e = torch.rand([300, 49512])\n",
    "    w = torch.rand([4, 256, 300])\n",
    "    u = torch.rand([4, 256, 256])\n",
    "    v = torch.rand([4, 300, 256])\n",
    "    hidden = torch.rand([4, 512, 256])\n",
    "    input = torch.rand([512, 4, 49512])\n",
    "    return e, w, u, v, hidden, input\n",
    "\n",
    "@task()\n",
    "def add(val1, val2):\n",
    "    val3 = torch.add(val1, val2)\n",
    "    return val3\n",
    "\n",
    "@task()\n",
    "def embedding_convert(input_vector, embedding):\n",
    "    output = torch.matmul(input_vector, torch.t(embedding))\n",
    "    return output\n",
    "\n",
    "@task()\n",
    "def rnn_cell_computation(input_vector, hidden_state, weight, u, v, embedding):\n",
    "    h1 = torch.matmul(input_vector, torch.t(weight))\n",
    "    h2 = torch.matmul(hidden_state, torch.t(u))\n",
    "    h = torch.add(h1, h2)\n",
    "    out = torch.matmul(h, torch.t(v))\n",
    "    return out, h\n",
    "\n",
    "@task()\n",
    "def output_one_hot(output, embedding) :\n",
    "    out = torch.matmul(output, embedding)\n",
    "    out = torch.softmax(out,  dim=1)\n",
    "    return out\n",
    "\n",
    "stack_length = 4\n",
    "sequence_length = 4\n",
    "device = \"cpu\"\n",
    "hidden_size = 256\n",
    "mini_batch_size = 512\n",
    "\n",
    "output_vector = [[None for i in range(sequence_length)] for j in range(stack_length)]\n",
    "hidden_vector = [[None for i in range(sequence_length)] for j in range(stack_length)]\n",
    "\n",
    "e, w, u, v, h, input = initialize_parameters()\n",
    "input_vector = embedding_convert(input, e)\n",
    "\n",
    "# First Stack Layer\n",
    "h = compss_wait_on(h)\n",
    "input_vector = compss_wait_on(input_vector)\n",
    "e = compss_wait_on(e)\n",
    "w = compss_wait_on(w)\n",
    "u = compss_wait_on(u)\n",
    "v = compss_wait_on(v)\n",
    "\n",
    "\n",
    "hidden_state = h[0, :, :]\n",
    "for i in range(sequence_length) :\n",
    "    output_vector[0][i], hidden_state = rnn_cell_computation(input_vector = input_vector[:, i, :], hidden_state= hidden_state, weight= w[0, :, :], u = u[0, :, :],v = v[0, :, :], embedding= e)\n",
    "\n",
    "for i in range(1, stack_length) :\n",
    "    hidden_state = h[i, :, :]\n",
    "    for j in range(sequence_length) :\n",
    "        output_vector[i][j], hidden_state = rnn_cell_computation(input_vector = output_vector[i-1][j], hidden_state= hidden_state, weight= w[i, :, :], u = u[i, :, :],v = v[i, :, :], embedding= e)\n",
    "\n",
    "for i in range(sequence_length) :\n",
    "    output_vector[-1][i] = output_one_hot(output_vector[-1][i], e)\n",
    "\n",
    "\n"
   ]
  },
  {
   "cell_type": "code",
   "execution_count": null,
   "id": "6977b5a6",
   "metadata": {},
   "outputs": [
    {
     "name": "stdout",
     "output_type": "stream",
     "text": [
      "********************************************************\n",
      "***************** STOPPING PyCOMPSs ********************\n",
      "********************************************************\n",
      "Checking if any issue happened.\n",
      "Synchronizing all future objects left on the user scope.\n",
      "Found a list to synchronize: output_vector\n"
     ]
    }
   ],
   "source": [
    "ipycompss.stop(sync=True)\n",
    "print(\"Results after stopping PyCOMPSs: \")\n",
    "print(e)"
   ]
  },
  {
   "cell_type": "code",
   "execution_count": null,
   "id": "3c891312",
   "metadata": {},
   "outputs": [],
   "source": [
    "ipycompss.tasks_info()"
   ]
  },
  {
   "cell_type": "code",
   "execution_count": null,
   "id": "ad8e7584",
   "metadata": {},
   "outputs": [],
   "source": [
    "ipycompss.resources_status()"
   ]
  },
  {
   "cell_type": "code",
   "execution_count": null,
   "id": "1e769483",
   "metadata": {},
   "outputs": [],
   "source": [
    "ipycompss.statistics()"
   ]
  },
  {
   "cell_type": "code",
   "execution_count": null,
   "id": "e71657c8",
   "metadata": {},
   "outputs": [],
   "source": [
    "ipycompss.__clean_temp_files()"
   ]
  },
  {
   "cell_type": "code",
   "execution_count": null,
   "id": "804db6df",
   "metadata": {},
   "outputs": [],
   "source": []
  }
 ],
 "metadata": {
  "kernelspec": {
   "display_name": "Python 3 (ipykernel)",
   "language": "python",
   "name": "python3"
  },
  "language_info": {
   "codemirror_mode": {
    "name": "ipython",
    "version": 3
   },
   "file_extension": ".py",
   "mimetype": "text/x-python",
   "name": "python",
   "nbconvert_exporter": "python",
   "pygments_lexer": "ipython3",
   "version": "3.10.12"
  }
 },
 "nbformat": 4,
 "nbformat_minor": 5
}
